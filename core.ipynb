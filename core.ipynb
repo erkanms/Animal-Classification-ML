{
 "cells": [
  {
   "cell_type": "code",
   "execution_count": 108,
   "id": "ff47ebdb",
   "metadata": {},
   "outputs": [],
   "source": [
    "import numpy as np\n",
    "import pandas as pd\n",
    "from PIL import Image\n",
    "from matplotlib import pyplot as plt\n",
    "\n"
   ]
  },
  {
   "cell_type": "code",
   "execution_count": 117,
   "id": "6f485433",
   "metadata": {},
   "outputs": [],
   "source": [
    "def load_image(i, value, path='Animals/'):\n",
    "    img = Image.open(f'{path}{i}/{i}_{value}.jpg')\n",
    "    img_rgb = img.convert('RGB')\n",
    "    data = np.array(img_rgb)\n",
    "    height, width, channels = data.shape\n",
    "    rgb_2d = data.reshape(height*width, channels).T\n",
    "    return rgb_2d\n",
    "\n",
    "def plot_image(rgb_2d):\n",
    "    current_image = rgb_2d.reshape((3, 256, 256)).transpose(1, 2, 0)\n",
    "    plt.imshow(current_image)\n",
    "    plt.axis('off')\n",
    "    plt.show()\n",
    "    return plt.show()\n",
    "\n",
    "data = load_image(1, '0001')\n"
   ]
  },
  {
   "cell_type": "code",
   "execution_count": null,
   "id": "15e79c13",
   "metadata": {},
   "outputs": [
    {
     "data": {
      "text/plain": [
       "<matplotlib.image.AxesImage at 0x123d6ba10>"
      ]
     },
     "execution_count": 121,
     "metadata": {},
     "output_type": "execute_result"
    },
    {
     "data": {
      "image/png": "[encoded data removed]",
      "text/plain": [
       "<Figure size 640x480 with 1 Axes>"
      ]
     },
     "metadata": {},
     "output_type": "display_data"
    }
   ],
   "source": [
    "\n",
    "\n",
    "plot_image(data)\n",
    "\n",
    "\n"
   ]
  }
 ],
 "metadata": {
  "kernelspec": {
   "display_name": "Python 3",
   "language": "python",
   "name": "python3"
  },
  "language_info": {
   "codemirror_mode": {
    "name": "ipython",
    "version": 3
   },
   "file_extension": ".py",
   "mimetype": "text/x-python",
   "name": "python",
   "nbconvert_exporter": "python",
   "pygments_lexer": "ipython3",
   "version": "3.12.6"
  }
 },
 "nbformat": 4,
 "nbformat_minor": 5
}
